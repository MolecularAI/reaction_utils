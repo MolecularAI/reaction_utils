{
 "cells": [
  {
   "cell_type": "markdown",
   "metadata": {},
   "source": [
    "### Example for protecting non-natural amino acid"
   ]
  },
  {
   "cell_type": "code",
   "execution_count": null,
   "metadata": {},
   "outputs": [],
   "source": [
    "from rdkit import Chem\n",
    "\n",
    "from rxnutils.chem.protection.amino_acids import preprocess_amino_acids, AminoAcidProtectionEngine"
   ]
  },
  {
   "cell_type": "markdown",
   "metadata": {},
   "source": [
    "Setup the protection engine, using 3 files:\n",
    "\n",
    "- A SMARTS library\n",
    "- A file with reaction SMARTS for the protection rules\n",
    "- A file with protection group information"
   ]
  },
  {
   "cell_type": "code",
   "execution_count": null,
   "metadata": {},
   "outputs": [],
   "source": [
    "engine = AminoAcidProtectionEngine(\n",
    "    smartslib_path=\"reactive_functions_ontology.txt\",\n",
    "    reaction_rules_path=\"protection_reactions.csv\",\n",
    "    protection_groups_path=\"protection_groups.csv\"\n",
    ")"
   ]
  },
  {
   "cell_type": "markdown",
   "metadata": {},
   "source": [
    "Setup the SMILES"
   ]
  },
  {
   "cell_type": "code",
   "execution_count": null,
   "metadata": {},
   "outputs": [],
   "source": [
    "unprotected_smiles = \"Cc1[nH]c(=O)c(c(n1)[O-])[C@@H](C(=O)[O-])[NH3+]\"\n",
    "Chem.MolFromSmiles(unprotected_smiles)"
   ]
  },
  {
   "cell_type": "markdown",
   "metadata": {},
   "source": [
    "First, we need to remove the backbone charge"
   ]
  },
  {
   "cell_type": "code",
   "execution_count": null,
   "metadata": {},
   "outputs": [],
   "source": [
    "uncharged_smiles = preprocess_amino_acids(unprotected_smiles)"
   ]
  },
  {
   "cell_type": "markdown",
   "metadata": {},
   "source": [
    "Then we can protect it. This will return a list of several protected amino acid SMILES"
   ]
  },
  {
   "cell_type": "code",
   "execution_count": null,
   "metadata": {},
   "outputs": [],
   "source": [
    "protected_smiles = engine(uncharged_smiles)\n",
    "len(protected_smiles)"
   ]
  },
  {
   "cell_type": "markdown",
   "metadata": {},
   "source": [
    "Visualize them and print out the used protection groups"
   ]
  },
  {
   "cell_type": "code",
   "execution_count": null,
   "metadata": {},
   "outputs": [],
   "source": [
    "for smiles_data in protected_smiles:\n",
    "    print(smiles_data.protection_groups)\n",
    "    display(Chem.MolFromSmiles(smiles_data.smiles))"
   ]
  }
 ],
 "metadata": {
  "kernelspec": {
   "display_name": "envdev",
   "language": "python",
   "name": "python3"
  },
  "language_info": {
   "codemirror_mode": {
    "name": "ipython",
    "version": 3
   },
   "file_extension": ".py",
   "mimetype": "text/x-python",
   "name": "python",
   "nbconvert_exporter": "python",
   "pygments_lexer": "ipython3",
   "version": "3.10.16"
  }
 },
 "nbformat": 4,
 "nbformat_minor": 2
}
