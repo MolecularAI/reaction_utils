{
 "cells": [
  {
   "cell_type": "markdown",
   "metadata": {},
   "source": [
    "### Route comparison tutorial\n",
    "\n",
    "This tutorial shows how to read routes from RDF files, assign atom-mapping, and then compute route similarity.\n",
    "\n",
    "We will use three experimental routes of atovastatin as examples"
   ]
  },
  {
   "cell_type": "code",
   "execution_count": null,
   "metadata": {},
   "outputs": [],
   "source": [
    "import os\n",
    "# To use rxnmapper, this assumes your conda and the \n",
    "# environments are installed in your home directory - update if necessary\n",
    "conda_path = os.path.expanduser(\"~\") + \"/miniconda3\"\n",
    "os.environ[\"CONDA_PATH\"] = f\"{conda_path}/bin/\"\n",
    "os.environ[\"RXNMAPPER_ENV_PATH\"] = f\"{conda_path}/envs/rxnmapper/\"\n",
    "\n",
    "import json\n",
    "import glob\n",
    "\n",
    "from rxnutils.routes.readers import read_rdf_file\n",
    "from rxnutils.routes.comparison import simple_route_similarity"
   ]
  },
  {
   "cell_type": "markdown",
   "metadata": {},
   "source": [
    "We will read each of the RDF files in reverse alphabetical order"
   ]
  },
  {
   "cell_type": "code",
   "execution_count": null,
   "metadata": {},
   "outputs": [],
   "source": [
    "rdf_filenames = glob.glob(\"*.rdf\")\n",
    "rdf_filenames.sort(reverse=True)\n",
    "len(rdf_filenames)"
   ]
  },
  {
   "cell_type": "markdown",
   "metadata": {},
   "source": [
    "For each RDF, we will:\n",
    "\n",
    "* Read the RDF to a `SynthesisRoute` object using `read_rdf_file`\n",
    "* Assign atom-mapping with `assign_atom_mapping` (here we will only use `rxnmapper` tool)\n",
    "* If this is the 2:nd or 3:rd route, re-map the route to correspond to the 1:st route\n",
    "* Save a PNG with the route showing the atom-mapping\n",
    "* Save the route in JSON format"
   ]
  },
  {
   "cell_type": "code",
   "execution_count": null,
   "metadata": {},
   "outputs": [],
   "source": [
    "ref_route = None\n",
    "routes = []\n",
    "for idx, filename in enumerate(rdf_filenames):\n",
    "    imgfilename = filename.replace(\".rdf\", \".png\")\n",
    "    print(filename, flush=True)\n",
    "    route = read_rdf_file(filename)\n",
    "    route.assign_atom_mapping(only_rxnmapper=True, overwrite=True)\n",
    "    if idx == 0:\n",
    "        ref_route = route\n",
    "    else:\n",
    "        route.remap(ref_route)\n",
    "    route.image(show_atom_mapping=True).save(imgfilename)\n",
    "    with open(filename.replace(\".rdf\", \"_tree.json\"), \"w\") as fileobj:\n",
    "        json.dump(route.reaction_tree, fileobj, indent=2)\n",
    "    routes.append(route)"
   ]
  },
  {
   "cell_type": "markdown",
   "metadata": {},
   "source": [
    "Here is the first route"
   ]
  },
  {
   "cell_type": "code",
   "execution_count": null,
   "metadata": {},
   "outputs": [],
   "source": [
    "routes[0].image(show_atom_mapping=True)"
   ]
  },
  {
   "cell_type": "markdown",
   "metadata": {},
   "source": [
    "Now we can compute the pairwise route similarity between the three routes"
   ]
  },
  {
   "cell_type": "code",
   "execution_count": null,
   "metadata": {},
   "outputs": [],
   "source": [
    "simple_route_similarity(routes)"
   ]
  }
 ],
 "metadata": {
  "kernelspec": {
   "display_name": "rxn-env",
   "language": "python",
   "name": "python3"
  },
  "language_info": {
   "codemirror_mode": {
    "name": "ipython",
    "version": 3
   },
   "file_extension": ".py",
   "mimetype": "text/x-python",
   "name": "python",
   "nbconvert_exporter": "python",
   "pygments_lexer": "ipython3",
   "version": "3.10.13"
  }
 },
 "nbformat": 4,
 "nbformat_minor": 2
}
