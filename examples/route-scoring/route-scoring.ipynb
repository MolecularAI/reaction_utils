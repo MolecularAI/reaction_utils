{
 "cells": [
  {
   "cell_type": "markdown",
   "metadata": {},
   "source": [
    "### Route scoring tutorial\n",
    "\n",
    "This shows how to use route scoring model described in this paper:\n",
    "\n",
    "[Yujia G, Kabeshov M, Le THD, Genheden S, Bergonzini G, Engkvist O, et al. A Deep Learning with Expert Augmentation Approach for Route Scoring in Organic Synthesis. ChemRxiv. 2024; doi:10.26434/chemrxiv-2024-tp7rh](http://doi.org/10.26434/chemrxiv-2024-tp7rh)"
   ]
  },
  {
   "cell_type": "code",
   "execution_count": null,
   "metadata": {},
   "outputs": [],
   "source": [
    "import json\n",
    "\n",
    "import pandas as pd\n",
    "\n",
    "from rxnutils.chem.features.sc_score import SCScore\n",
    "from rxnutils.routes.deepset.scoring import DeepsetModelClient, deepset_route_score\n",
    "from rxnutils.routes.base import SynthesisRoute"
   ]
  },
  {
   "cell_type": "markdown",
   "metadata": {},
   "source": [
    "Download model artifacts from Zenodo"
   ]
  },
  {
   "cell_type": "code",
   "execution_count": null,
   "metadata": {},
   "outputs": [],
   "source": [
    "!wget https://zenodo.org/records/14533779/files/deepset_route_scoring_sdf.onnx?download=1 -O deepset_route_scoring_sdf.onnx\n",
    "!wget https://zenodo.org/records/14533779/files/reaction_class_ranks.csv?download=1 -O reaction_class_ranks.csv\n",
    "!wget https://zenodo.org/records/14533779/files/scscore_model_1024_bits.onnx?download=1 -O scscore_model_1024_bits.onnx"
   ]
  },
  {
   "cell_type": "markdown",
   "metadata": {},
   "source": [
    "Will read example routes from disc"
   ]
  },
  {
   "cell_type": "code",
   "execution_count": null,
   "metadata": {},
   "outputs": [],
   "source": [
    "dicts = json.load(open(\"example-routes.json\", \"r\"))\n",
    "routes = [SynthesisRoute(dict_) for dict_ in dicts]\n"
   ]
  },
  {
   "cell_type": "code",
   "execution_count": null,
   "metadata": {},
   "outputs": [],
   "source": [
    "routes[0].image()"
   ]
  },
  {
   "cell_type": "code",
   "execution_count": null,
   "metadata": {},
   "outputs": [],
   "source": [
    "routes[1].image()"
   ]
  },
  {
   "cell_type": "markdown",
   "metadata": {},
   "source": [
    "Setup classes for scoring component"
   ]
  },
  {
   "cell_type": "code",
   "execution_count": null,
   "metadata": {},
   "outputs": [],
   "source": [
    "# Setup class ranks\n",
    "df = pd.read_csv(\"reaction_class_ranks.csv\", sep = \",\")\n",
    "reaction_class_ranks = dict(zip(df[\"reaction_class\"], df[\"rank_score\"]))\n",
    "# Setup SCScore model\n",
    "scscorer = SCScore(\"scscore_model_1024_bits.onnx\")\n",
    "# Setup the Deepset model client\n",
    "deepset_client = DeepsetModelClient(\"deepset_route_scoring_sdf.onnx\")"
   ]
  },
  {
   "cell_type": "markdown",
   "metadata": {},
   "source": [
    "Score the routes"
   ]
  },
  {
   "cell_type": "code",
   "execution_count": null,
   "metadata": {},
   "outputs": [],
   "source": [
    "deepset_route_score(routes[0], deepset_client, scscorer, reaction_class_ranks)"
   ]
  },
  {
   "cell_type": "code",
   "execution_count": null,
   "metadata": {},
   "outputs": [],
   "source": [
    "deepset_route_score(routes[1], deepset_client, scscorer, reaction_class_ranks)"
   ]
  }
 ],
 "metadata": {
  "kernelspec": {
   "display_name": "rxn-env",
   "language": "python",
   "name": "python3"
  },
  "language_info": {
   "codemirror_mode": {
    "name": "ipython",
    "version": 3
   },
   "file_extension": ".py",
   "mimetype": "text/x-python",
   "name": "python",
   "nbconvert_exporter": "python",
   "pygments_lexer": "ipython3",
   "version": "3.10.16"
  }
 },
 "nbformat": 4,
 "nbformat_minor": 2
}
