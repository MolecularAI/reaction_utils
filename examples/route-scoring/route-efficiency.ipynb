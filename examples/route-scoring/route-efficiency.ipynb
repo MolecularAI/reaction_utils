{
 "cells": [
  {
   "cell_type": "markdown",
   "id": "bc7e7f2a",
   "metadata": {},
   "source": [
    "### Route efficiency tutorial\n",
    "\n",
    "This tutorial shows how to read routes from RDF files and then compute route efficiency metrics according to this paper:\n",
    "\n",
    "[Genheden S., Howell G. Measuring the efficiency of synthetic routes and transformations using vectors derived from similarity and complexity, 2025. ChemRxiv; 10.26434/chemrxiv-2025-t3fmt](https://chemrxiv.org/engage/chemrxiv/article-details/681dbeee927d1c2e66bae776)\n",
    "\n",
    "We will use three experimental routes of atovastatin as examples"
   ]
  },
  {
   "cell_type": "code",
   "execution_count": null,
   "id": "d41fe445",
   "metadata": {},
   "outputs": [],
   "source": [
    "#@title Installation -- Run this cell to install rnxutils\n",
    "\n",
    "!pip install reaction-utils\n",
    "!pip install seaborn\n",
    "!wget https://raw.githubusercontent.com/MolecularAI/reaction_utils/route-efficiency-notebook/examples/route-scoring/complexity.py -O complexity.py\n",
    "!wget https://raw.githubusercontent.com/MolecularAI/reaction_utils/refs/heads/main/examples/route-comparison/Roth%201991%20Chiral%20aux%20via%20Claisen.rdf -O \"Roth 1991 Chiral aux via Claisen.rdf\"\n",
    "!wget https://raw.githubusercontent.com/MolecularAI/reaction_utils/refs/heads/main/examples/route-comparison/Roth%201991%20rac.rdf -O  \"Roth 1991 rac.rdf\"\n",
    "!wget https://raw.githubusercontent.com/MolecularAI/reaction_utils/refs/heads/main/examples/route-comparison/US5298627%20route.rdf -O \"US5298627 route.rdf\""
   ]
  },
  {
   "cell_type": "code",
   "execution_count": null,
   "id": "e28d7106",
   "metadata": {},
   "outputs": [],
   "source": [
    "import glob\n",
    "from collections import defaultdict\n",
    "\n",
    "import seaborn as sns\n",
    "import pandas as pd\n",
    "\n",
    "from rxnutils.routes.readers import read_rdf_file"
   ]
  },
  {
   "cell_type": "markdown",
   "id": "9e78d64e",
   "metadata": {},
   "source": [
    "We will read each of the RDF files in reverse alphabetical order and make them into a `SynthesisRoute` object using `read_rdf_file`"
   ]
  },
  {
   "cell_type": "code",
   "execution_count": null,
   "id": "c60988f6",
   "metadata": {},
   "outputs": [],
   "source": [
    "rdf_filenames = glob.glob(\"*.rdf\")\n",
    "rdf_filenames.sort(reverse=True)\n",
    "routes = [read_rdf_file(filename) for filename in rdf_filenames]\n",
    "len(routes)"
   ]
  },
  {
   "cell_type": "markdown",
   "id": "9b521db0",
   "metadata": {},
   "source": [
    "Here is the first route"
   ]
  },
  {
   "cell_type": "code",
   "execution_count": null,
   "id": "5ea29d3a",
   "metadata": {},
   "outputs": [],
   "source": [
    "routes[0].image()"
   ]
  },
  {
   "cell_type": "markdown",
   "id": "db0596f7",
   "metadata": {},
   "source": [
    "Now, we will define some helper functions to calculate the compound similarities and complexities"
   ]
  },
  {
   "cell_type": "code",
   "execution_count": null,
   "id": "d79f0c1f",
   "metadata": {},
   "outputs": [],
   "source": [
    "from rdkit import Chem\n",
    "from rdkit.Chem import rdFMCS\n",
    "from complexity import calc_cm_star\n",
    "import numpy as np\n",
    "\n",
    "def norm_cm_star(smiles: str, min_val=3.5, max_val=12.0) -> float:\n",
    "    \"\"\" Calculate the normalized CM* of a molecule,\n",
    "    clipping values outside the range [min_val, max_val]\n",
    "    \"\"\"\n",
    "    cstar = calc_cm_star(smiles)\n",
    "    if cstar == np.inf or cstar == -np.inf:\n",
    "        return 0\n",
    "\n",
    "    if cstar < min_val:\n",
    "        return 0\n",
    "\n",
    "    if cstar > max_val:\n",
    "        return max_val\n",
    "    \n",
    "    ret = (cstar - min_val) / (max_val - min_val)\n",
    "    return ret\n",
    "\n",
    "def calc_mcs_similarity(smiles_list: list[str]) -> np.ndarray:\n",
    "    \"\"\" Calculate the MCS similarity between the targets and all the other molecules in the chain\n",
    "    \"\"\"\n",
    "    params = rdFMCS.MCSParameters()\n",
    "    params.AtomTyper = rdFMCS.AtomCompare.CompareElements\n",
    "    params.BondTyper = rdFMCS.BondCompare.CompareAny\n",
    "    params.BondCompareParameters.RingMatchesRingOnly = False\n",
    "    params.BondCompareParameters.CompleteRingsOnly = False\n",
    "    params.Timeout=30\n",
    "\n",
    "    rd_mols = [Chem.MolFromSmiles(smi) for smi in smiles_list] \n",
    "    natombonds = [mol.GetNumAtoms()+mol.GetNumBonds() for mol in rd_mols]\n",
    "    sim_mcs = []\n",
    "    for mol, mol_atombonds in zip(rd_mols, natombonds):\n",
    "        mcs = rdFMCS.FindMCS([mol, rd_mols[-1]], params)\n",
    "        if mcs.canceled: # ie timeout reached\n",
    "            sim_mcs.append(0)\n",
    "            continue\n",
    "        mcs_natomsbonds = mcs.numAtoms + mcs.numBonds\n",
    "        norm = mol_atombonds + natombonds[-1] - mcs_natomsbonds\n",
    "        sim_mcs.append(mcs_natomsbonds / norm)\n",
    "    return np.asarray(sim_mcs)\n",
    "\n",
    "def calc_vmin(complexities, similarities):\n",
    "    \"\"\" Calculate the V_min of a route, see Figure 6 in publication\n",
    "    \n",
    "    :param complexities: list of complexities of all the molecules in the chain\n",
    "    :param similarities: list of similarities of all the molecules in the chain\n",
    "    \"\"\"\n",
    "    return np.sqrt((complexities[-1]-complexities[0])**2+(similarities[-1]-similarities[0])**2)\n",
    "\n",
    "def calc_veff(complexities, similarities, min_clip=0.1):\n",
    "    \"\"\" Calculate the η (efficiency) of a route, see Figure 6 in publication\n",
    "\n",
    "    :param complexities: list of complexities of all the molecules in the chain\n",
    "    :param similarities: list of similarities of all the molecules in the chain\n",
    "    :param min_clip: minimum value to clip the path length, default is 0.1\n",
    "    \"\"\"\n",
    "    vmin = calc_vmin(complexities, similarities)\n",
    "    delta_comp = complexities[1:]-complexities[:-1]\n",
    "    delta_sim = similarities[1:]-similarities[:-1]\n",
    "    v_path = np.sqrt(delta_comp**2 + delta_sim**2)\n",
    "    if min_clip is None:\n",
    "        return vmin/v_path.sum()\n",
    "    return vmin/v_path.clip(min_clip,None).sum()"
   ]
  },
  {
   "cell_type": "markdown",
   "id": "dd4d8c5e",
   "metadata": {},
   "source": [
    "Now, we can calculate the similarity and complexity vectors for all the 3 routes"
   ]
  },
  {
   "cell_type": "code",
   "execution_count": null,
   "id": "8ebb32db",
   "metadata": {},
   "outputs": [],
   "source": [
    "data = defaultdict(list)\n",
    "\n",
    "for route, filename in zip(routes, rdf_filenames):\n",
    "    chains = route.chains(norm_cm_star)\n",
    "    lls = chains[0]\n",
    "\n",
    "    smiles_list = [mol[\"smiles\"] for mol in lls]\n",
    "    similarities = calc_mcs_similarity(smiles_list)\n",
    "    complexities = np.asarray([mol[\"complexity\"] for mol in lls])\n",
    "    \n",
    "    data[\"route\"].extend([filename.split(\".\")[0]]*len(complexities))\n",
    "    data[\"nC\"].extend(complexities)\n",
    "    data[\"$S_{MCES}$\"].extend(similarities)\n",
    "data = pd.DataFrame(data)"
   ]
  },
  {
   "cell_type": "code",
   "execution_count": null,
   "id": "21847b56",
   "metadata": {},
   "outputs": [],
   "source": [
    "sns.relplot(\n",
    "    data=data, \n",
    "    x=\"$S_{MCES}$\", \n",
    "    y=\"nC\", \n",
    "    col=\"route\", \n",
    "    kind=\"line\", \n",
    "    marker=\"o\", \n",
    "    dashes=False,\n",
    "    facet_kws={\"sharey\": True, \"sharex\": True}\n",
    ")"
   ]
  },
  {
   "cell_type": "markdown",
   "id": "142779ac",
   "metadata": {},
   "source": [
    "And we can calculate the $V_{min}$ and $\\eta$ values of the routes"
   ]
  },
  {
   "cell_type": "code",
   "execution_count": null,
   "id": "6114fbcb",
   "metadata": {},
   "outputs": [],
   "source": [
    "def calc_route_efficiency(route_df):\n",
    "    return pd.Series(\n",
    "        {\n",
    "            \"Vmin\": calc_vmin(route_df[\"nC\"].values, route_df[\"$S_{MCES}$\"].values),\n",
    "            \"η\": calc_veff(route_df[\"nC\"].values, route_df[\"$S_{MCES}$\"].values)\n",
    "        }\n",
    "    )\n",
    "data.groupby(\"route\").apply(calc_route_efficiency, include_groups=False)"
   ]
  }
 ],
 "metadata": {
  "kernelspec": {
   "display_name": "rxn-env",
   "language": "python",
   "name": "python3"
  },
  "language_info": {
   "codemirror_mode": {
    "name": "ipython",
    "version": 3
   },
   "file_extension": ".py",
   "mimetype": "text/x-python",
   "name": "python",
   "nbconvert_exporter": "python",
   "pygments_lexer": "ipython3",
   "version": "3.10.16"
  }
 },
 "nbformat": 4,
 "nbformat_minor": 5
}
